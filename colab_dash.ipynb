{
  "nbformat": 4,
  "nbformat_minor": 0,
  "metadata": {
    "colab": {
      "name": "colab_dash.ipynb",
      "provenance": [],
      "toc_visible": true
    },
    "kernelspec": {
      "name": "python3",
      "display_name": "Python 3"
    }
  },
  "cells": [
    {
      "cell_type": "markdown",
      "metadata": {
        "id": "Cx62f5K4iM9p"
      },
      "source": [
        "# Setup"
      ]
    },
    {
      "cell_type": "code",
      "metadata": {
        "id": "i6kp2WyDiqA6"
      },
      "source": [
        "%%sh\n",
        "pip install -q dash\n",
        "pip install -q dash_core_components\n",
        "pip install -q dash_html_components\n",
        "pip install -q dash_table"
      ],
      "execution_count": 1,
      "outputs": []
    },
    {
      "cell_type": "code",
      "metadata": {
        "id": "uuHS64aNk6oK",
        "colab": {
          "base_uri": "https://localhost:8080/"
        },
        "outputId": "5c585f1f-dd2f-4c62-9016-b888226223e0"
      },
      "source": [
        "%%sh\n",
        "# get ngrok\n",
        "curl -O https://bin.equinox.io/c/4VmDzA7iaHb/ngrok-stable-linux-amd64.zip\n",
        "unzip ngrok-stable-linux-amd64.zip"
      ],
      "execution_count": 2,
      "outputs": [
        {
          "output_type": "stream",
          "text": [
            "Archive:  ngrok-stable-linux-amd64.zip\n",
            "  inflating: ngrok                   \n"
          ],
          "name": "stdout"
        },
        {
          "output_type": "stream",
          "text": [
            "  % Total    % Received % Xferd  Average Speed   Time    Time     Time  Current\n",
            "                                 Dload  Upload   Total   Spent    Left  Speed\n",
            "\r  0     0    0     0    0     0      0      0 --:--:-- --:--:-- --:--:--     0\r100 13.1M  100 13.1M    0     0  38.5M      0 --:--:-- --:--:-- --:--:-- 38.5M\n"
          ],
          "name": "stderr"
        }
      ]
    },
    {
      "cell_type": "markdown",
      "metadata": {
        "id": "QVb3TaoVtFom"
      },
      "source": [
        "# Dash"
      ]
    },
    {
      "cell_type": "code",
      "metadata": {
        "id": "TPwPq0JLtMVQ",
        "colab": {
          "base_uri": "https://localhost:8080/"
        },
        "outputId": "e44e33b3-51e9-49cc-cfbc-db291058a739"
      },
      "source": [
        "%%writefile dash_app.py\n",
        "\n",
        "import dash\n",
        "import dash_core_components as dcc\n",
        "import dash_html_components as html\n",
        "\n",
        "external_stylesheets = ['https://codepen.io/chriddyp/pen/bWLwgP.css']\n",
        "\n",
        "app = dash.Dash(__name__)#, external_stylesheets=external_stylesheets)\n",
        "\n",
        "app.layout = html.Div(children=[\n",
        "    html.H1(children='Hello Dash'),\n",
        "\n",
        "    html.Div(children='''\n",
        "        Dash: A web application framework for Python.\n",
        "    '''),\n",
        "\n",
        "    dcc.Graph(\n",
        "        id='example-graph',\n",
        "        figure={\n",
        "            'data': [\n",
        "                {'x': [1, 2, 3], 'y': [4, 1, 2], 'type': 'bar', 'name': 'SF'},\n",
        "                {'x': [1, 2, 3], 'y': [2, 4, 5], 'type': 'bar', 'name': u'Montréal'},\n",
        "            ],\n",
        "            'layout': {\n",
        "                'title': 'Dash Data Visualization'\n",
        "            }\n",
        "        }\n",
        "    )\n",
        "])\n",
        "\n",
        "if __name__ == '__main__':\n",
        "    app.run_server(debug=False)"
      ],
      "execution_count": 7,
      "outputs": [
        {
          "output_type": "stream",
          "text": [
            "Overwriting dash_app.py\n"
          ],
          "name": "stdout"
        }
      ]
    },
    {
      "cell_type": "code",
      "metadata": {
        "id": "5hKnCayGlyd_"
      },
      "source": [
        "# launch ngrok\n",
        "get_ipython().system_raw('./ngrok http 8050 &')"
      ],
      "execution_count": 8,
      "outputs": []
    },
    {
      "cell_type": "code",
      "metadata": {
        "id": "UK2SIu8qsHPK",
        "colab": {
          "base_uri": "https://localhost:8080/"
        },
        "outputId": "a83ae4be-1542-469e-c3a0-42d6ea789bbf"
      },
      "source": [
        "%%sh\n",
        "# get url with ngrok\n",
        "curl -s http://localhost:4040/api/tunnels | python3 -c \"import sys, json; print(json.load(sys.stdin)['tunnels'][0]['public_url'])\""
      ],
      "execution_count": 9,
      "outputs": [
        {
          "output_type": "stream",
          "text": [
            "http://404b91ab7aec.ngrok.io\n"
          ],
          "name": "stdout"
        }
      ]
    },
    {
      "cell_type": "code",
      "metadata": {
        "id": "ycoF8TVXjos6",
        "colab": {
          "base_uri": "https://localhost:8080/"
        },
        "outputId": "4a820ed4-c078-46c3-fe90-bd6c1c783f58"
      },
      "source": [
        "!python dash_app.py"
      ],
      "execution_count": null,
      "outputs": [
        {
          "output_type": "stream",
          "text": [
            "Dash is running on http://127.0.0.1:8050/\n",
            "\n",
            " * Serving Flask app \"dash_app\" (lazy loading)\n",
            " * Environment: production\n",
            "\u001b[31m   WARNING: This is a development server. Do not use it in a production deployment.\u001b[0m\n",
            "\u001b[2m   Use a production WSGI server instead.\u001b[0m\n",
            " * Debug mode: off\n",
            " * Running on http://127.0.0.1:8050/ (Press CTRL+C to quit)\n",
            "127.0.0.1 - - [20/May/2021 02:57:28] \"GET / HTTP/1.1\" 200 -\n",
            "127.0.0.1 - - [20/May/2021 02:57:28] \"GET /_dash-component-suites/dash_renderer/react@16.v1_9_1m1621479239.14.0.min.js HTTP/1.1\" 200 -\n",
            "127.0.0.1 - - [20/May/2021 02:57:28] \"GET /_dash-component-suites/dash_renderer/polyfill@7.v1_9_1m1621479239.8.7.min.js HTTP/1.1\" 200 -\n",
            "127.0.0.1 - - [20/May/2021 02:57:28] \"GET /_dash-component-suites/dash_renderer/prop-types@15.v1_9_1m1621479239.7.2.min.js HTTP/1.1\" 200 -\n",
            "127.0.0.1 - - [20/May/2021 02:57:28] \"GET /_dash-component-suites/dash_renderer/react-dom@16.v1_9_1m1621479239.14.0.min.js HTTP/1.1\" 200 -\n",
            "127.0.0.1 - - [20/May/2021 02:57:28] \"GET /_dash-component-suites/dash_core_components/dash_core_components-shared.v1_16_0m1621479240.js HTTP/1.1\" 200 -\n",
            "127.0.0.1 - - [20/May/2021 02:57:28] \"GET /_dash-component-suites/dash_html_components/dash_html_components.v1_1_3m1621479241.min.js HTTP/1.1\" 200 -\n",
            "127.0.0.1 - - [20/May/2021 02:57:28] \"GET /_dash-component-suites/dash_core_components/dash_core_components.v1_16_0m1621479240.min.js HTTP/1.1\" 200 -\n",
            "127.0.0.1 - - [20/May/2021 02:57:28] \"GET /_dash-component-suites/dash_renderer/dash_renderer.v1_9_1m1621479239.min.js HTTP/1.1\" 200 -\n",
            "127.0.0.1 - - [20/May/2021 02:57:29] \"GET / HTTP/1.1\" 200 -\n",
            "127.0.0.1 - - [20/May/2021 02:57:29] \"GET /_dash-dependencies HTTP/1.1\" 200 -\n",
            "127.0.0.1 - - [20/May/2021 02:57:29] \"GET /_dash-layout HTTP/1.1\" 200 -\n",
            "127.0.0.1 - - [20/May/2021 02:57:29] \"GET /_dash-component-suites/dash_core_components/async-graph.v1_16_0m1617903285.js HTTP/1.1\" 200 -\n",
            "127.0.0.1 - - [20/May/2021 02:57:29] \"GET /_favicon.ico?v=1.20.0 HTTP/1.1\" 200 -\n",
            "127.0.0.1 - - [20/May/2021 02:57:29] \"GET /_dash-component-suites/dash_core_components/async-plotlyjs.v1_16_0m1617903285.js HTTP/1.1\" 200 -\n",
            "127.0.0.1 - - [20/May/2021 02:57:29] \"GET /_dash-component-suites/dash_renderer/polyfill@7.v1_9_1m1621479239.8.7.min.js HTTP/1.1\" 200 -\n",
            "127.0.0.1 - - [20/May/2021 02:57:29] \"GET /_dash-component-suites/dash_renderer/react-dom@16.v1_9_1m1621479239.14.0.min.js HTTP/1.1\" 200 -\n",
            "127.0.0.1 - - [20/May/2021 02:57:29] \"GET /_dash-component-suites/dash_renderer/react@16.v1_9_1m1621479239.14.0.min.js HTTP/1.1\" 200 -\n",
            "127.0.0.1 - - [20/May/2021 02:57:29] \"GET /_dash-component-suites/dash_core_components/dash_core_components-shared.v1_16_0m1621479240.js HTTP/1.1\" 200 -\n",
            "127.0.0.1 - - [20/May/2021 02:57:29] \"GET /_dash-component-suites/dash_core_components/dash_core_components.v1_16_0m1621479240.min.js HTTP/1.1\" 200 -\n",
            "127.0.0.1 - - [20/May/2021 02:57:29] \"GET /_dash-component-suites/dash_renderer/prop-types@15.v1_9_1m1621479239.7.2.min.js HTTP/1.1\" 200 -\n",
            "127.0.0.1 - - [20/May/2021 02:57:30] \"GET /_dash-component-suites/dash_html_components/dash_html_components.v1_1_3m1621479241.min.js HTTP/1.1\" 200 -\n",
            "127.0.0.1 - - [20/May/2021 02:57:30] \"GET /_dash-component-suites/dash_renderer/dash_renderer.v1_9_1m1621479239.min.js HTTP/1.1\" 200 -\n",
            "127.0.0.1 - - [20/May/2021 02:57:31] \"GET /_dash-dependencies HTTP/1.1\" 200 -\n",
            "127.0.0.1 - - [20/May/2021 02:57:31] \"GET /_dash-layout HTTP/1.1\" 200 -\n",
            "127.0.0.1 - - [20/May/2021 02:57:31] \"GET /_dash-component-suites/dash_core_components/async-graph.v1_16_0m1617903285.js HTTP/1.1\" 200 -\n"
          ],
          "name": "stdout"
        }
      ]
    },
    {
      "cell_type": "code",
      "metadata": {
        "id": "TWJF-fKekaq0"
      },
      "source": [
        ""
      ],
      "execution_count": null,
      "outputs": []
    }
  ]
}